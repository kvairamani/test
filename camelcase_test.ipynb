{
  "nbformat": 4,
  "nbformat_minor": 0,
  "metadata": {
    "colab": {
      "name": "Untitled0.ipynb",
      "provenance": [],
      "collapsed_sections": [],
      "authorship_tag": "ABX9TyM8ccJTfYJA8W4qiuuLM9fI",
      "include_colab_link": true
    },
    "kernelspec": {
      "name": "python3",
      "display_name": "Python 3"
    }
  },
  "cells": [
    {
      "cell_type": "markdown",
      "metadata": {
        "id": "view-in-github",
        "colab_type": "text"
      },
      "source": [
        "<a href=\"https://colab.research.google.com/github/kvairamani/test/blob/master/camelcase_test.ipynb\" target=\"_parent\"><img src=\"https://colab.research.google.com/assets/colab-badge.svg\" alt=\"Open In Colab\"/></a>"
      ]
    },
    {
      "cell_type": "code",
      "metadata": {
        "id": "Q_LIwM5Y6b53",
        "colab_type": "code",
        "colab": {
          "base_uri": "https://localhost:8080/",
          "height": 34
        },
        "outputId": "c874a9c9-9cd2-4917-f329-8320903eead4"
      },
      "source": [
        "value=\"test message. send's by controller?, check the answer\"\n",
        "value=value.replace('.','')\n",
        "value=value.replace('\\'',' ')\n",
        "value=value.replace(':','')\n",
        "value=value.replace('?','')\n",
        "value=value.replace(',','')\n",
        "value=value.split()\n",
        "v=len(value)\n",
        "value1=value[0]\n",
        "value.pop(0)\n",
        "words=value\n",
        "def list_2_string(words):\n",
        "  # initialize an empty string \n",
        "    str1 = \"\"  \n",
        "    \n",
        "    # traverse in the string   \n",
        "    for ele in words:  \n",
        "        str1 += ele.capitalize()   \n",
        "    \n",
        "    # return string \n",
        "\n",
        "    return str1  \n",
        "\n",
        "print(value1+list_2_string(words))\n"
      ],
      "execution_count": 31,
      "outputs": [
        {
          "output_type": "stream",
          "text": [
            "testMessageSendSByControllerCheckTheAnswer\n"
          ],
          "name": "stdout"
        }
      ]
    }
  ]
}