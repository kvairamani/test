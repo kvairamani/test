{
  "nbformat": 4,
  "nbformat_minor": 0,
  "metadata": {
    "colab": {
      "name": "Honda_City_Travel_Distance_Fuel.ipynb",
      "provenance": [],
      "collapsed_sections": [],
      "authorship_tag": "ABX9TyPI5Kco8so+HtzHdMVA5A+1",
      "include_colab_link": true
    },
    "kernelspec": {
      "name": "python3",
      "display_name": "Python 3"
    }
  },
  "cells": [
    {
      "cell_type": "markdown",
      "metadata": {
        "id": "view-in-github",
        "colab_type": "text"
      },
      "source": [
        "<a href=\"https://colab.research.google.com/github/kvairamani/test/blob/master/Honda_City_Travel_Distance_Fuel.ipynb\" target=\"_parent\"><img src=\"https://colab.research.google.com/assets/colab-badge.svg\" alt=\"Open In Colab\"/></a>"
      ]
    },
    {
      "cell_type": "code",
      "metadata": {
        "colab": {
          "base_uri": "https://localhost:8080/"
        },
        "id": "Pi-PrvuPfL_2",
        "outputId": "10a05a38-e44e-4899-9d77-f06cb6b25e76"
      },
      "source": [
        "location1=\"Trichy\"\r\n",
        "location2=\"Viralimalai\"\r\n",
        "location3=\"Madurai\"\r\n",
        "location4=\"Tirunelveli\"\r\n",
        "location5=\"Nagercoil\"\r\n",
        "location6=\"Thanjavur\"\r\n",
        "location7=\"Kumbakonam\"\r\n",
        "maxfuel=40\r\n",
        "minfuel=10\r\n",
        "fuel=15\r\n",
        "start=input()\r\n",
        "stop=input()\r\n",
        "vehicle=\"Honda City, Transmission type Manual\"\r\n",
        "mileage=17.8 #manual transmission\r\n",
        "#mileage=18.4 #Automatic transmission\r\n",
        "distance_travel=fuel*mileage\r\n",
        "distance_travel=str(distance_travel)\r\n",
        "print(vehicle)\r\n",
        "print(\"Able to travel\", distance_travel,\"Km\")\r\n",
        "if (start==location1) and (stop==location2):\r\n",
        "  print(\"Distance 34 Km estimated time 34 min\")\r\n",
        "  print(\"Available Fuel\",currentfuel,\"L\")\r\n",
        "  if (distance_travel<=\"34\"):print(\"Fill fuel and start journey\")\r\n",
        "  else:print(\"Start Journey\")\r\n",
        "if (start==location1) and (stop==location3):\r\n",
        "  print(\"Distance 138 Km estimated time 2 hr 4 min\")\r\n",
        "  print(\"fuel\",currentfuel,\"L\") \r\n",
        "  if (distance_travel<=\"138\"):print(\"Fill fuel and start journey\")\r\n",
        "  else:print(\"Start Journey\")\r\n",
        "if (start==location1) and (stop==location4):\r\n",
        "  print(\"Distance 300 Km estimated time 4 hr 36 min\")\r\n",
        "  print(\"fuel\",currentfuel,\"L\")\r\n",
        "  if (distance_travel<=\"300\"):print(\"Fill fuel and start journey\")\r\n",
        "  else:print(\"Start Journey\")\r\n",
        "if (start==location1) and (stop==location5):\r\n",
        "  print(\"Distance 380 Km estimated time 6 hr 3 min\")\r\n",
        "  print(\"fuel\",currentfuel,\"L\")\r\n",
        "  if (distance_travel<=\"380\"):print(\"Fill fuel and start journey\")\r\n",
        "  else:print(\"Start Journey\")\r\n",
        "if (start==location1) and (stop==location6):\r\n",
        "  print(\"Distance 57 Km estimated time 1 hr 6 min\")\r\n",
        "  print(\"fuel\",currentfuel,\"L\")\r\n",
        "  if (distance_travel<=\"57\"):print(\"Fill fuel and start journey\")\r\n",
        "  else:print(\"Start Journey\")\r\n",
        "if (start==location1) and (stop==location7):\r\n",
        "  print(\"Distance 100 Km estimated time 2 hr 4 min\")\r\n",
        "  print(\"fuel\",currentfuel,\"L\")\r\n",
        "  if (distance_travel<=\"100\"):print(\"Fill fuel and start journey\")\r\n",
        "  else:print(\"Start Journey\")\r\n",
        "else:\r\n",
        "  print(\"enter valid start and stop location\")"
      ],
      "execution_count": null,
      "outputs": [
        {
          "output_type": "stream",
          "text": [
            "Trichy\n",
            "Madurai\n",
            "Honda City, Transmission type Manual\n",
            "Able to travel 267.0 Km\n",
            "Distance 138 Km estimated time 2 hr 4 min\n",
            "fuel 15 L\n",
            "Start Journey\n",
            "enter valid start and stop location\n"
          ],
          "name": "stdout"
        }
      ]
    },
    {
      "cell_type": "code",
      "metadata": {
        "colab": {
          "base_uri": "https://localhost:8080/"
        },
        "id": "rhsAUn_jmNwj",
        "outputId": "dd15bd6d-3260-4f9f-bfc5-45517108ad1f"
      },
      "source": [
        "fuel=15\r\n",
        "mileage=20\r\n",
        "distance_travel=fuel*mileage\r\n",
        "distance_travel=str(distance_travel)\r\n",
        "print(distance_travel)"
      ],
      "execution_count": null,
      "outputs": [
        {
          "output_type": "stream",
          "text": [
            "300\n"
          ],
          "name": "stdout"
        }
      ]
    }
  ]
}