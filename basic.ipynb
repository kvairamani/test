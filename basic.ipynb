{
  "nbformat": 4,
  "nbformat_minor": 0,
  "metadata": {
    "colab": {
      "name": "Untitled1.ipynb",
      "provenance": [],
      "authorship_tag": "ABX9TyNOSuYEYJ/s8e5FZ2DUCDuM",
      "include_colab_link": true
    },
    "kernelspec": {
      "name": "python3",
      "display_name": "Python 3"
    }
  },
  "cells": [
    {
      "cell_type": "markdown",
      "metadata": {
        "id": "view-in-github",
        "colab_type": "text"
      },
      "source": [
        "<a href=\"https://colab.research.google.com/github/kvairamani/test/blob/master/basic.ipynb\" target=\"_parent\"><img src=\"https://colab.research.google.com/assets/colab-badge.svg\" alt=\"Open In Colab\"/></a>"
      ]
    },
    {
      "cell_type": "code",
      "metadata": {
        "id": "wlPglk09gI4E",
        "outputId": "89a3aaff-30bc-493f-ed7c-808c8c1d5a45",
        "colab": {
          "base_uri": "https://localhost:8080/",
          "height": 85
        }
      },
      "source": [
        "name=\"Lizz\"\n",
        "print(name[0:2])\n",
        "var='01234567'\n",
        "print(var[::2])\n",
        "A=(0,1,2,3)\n",
        "print(A[-1])\n",
        "b=[\"a\",\"b\",\"c\"]\n",
        "print(b[1:])"
      ],
      "execution_count": 14,
      "outputs": [
        {
          "output_type": "stream",
          "text": [
            "Li\n",
            "0246\n",
            "3\n",
            "['b', 'c']\n"
          ],
          "name": "stdout"
        }
      ]
    }
  ]
}